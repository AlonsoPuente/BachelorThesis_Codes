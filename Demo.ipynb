{
  "nbformat": 4,
  "nbformat_minor": 0,
  "metadata": {
    "colab": {
      "name": "Demo.ipynb",
      "provenance": [],
      "collapsed_sections": [],
      "toc_visible": true
    },
    "kernelspec": {
      "name": "python3",
      "display_name": "Python 3"
    },
    "accelerator": "GPU"
  },
  "cells": [
    {
      "cell_type": "markdown",
      "metadata": {
        "id": "bTPbh3JnR_ky",
        "colab_type": "text"
      },
      "source": [
        "# Cargar modelos"
      ]
    },
    {
      "cell_type": "markdown",
      "metadata": {
        "id": "xL0Bwycap5Fg",
        "colab_type": "text"
      },
      "source": [
        "Probaré con la información de este proyecto:\n",
        "https://www.kickstarter.com/projects/theifs/new-toy-robot-game-makes-learning-to-code-childs-play"
      ]
    },
    {
      "cell_type": "code",
      "metadata": {
        "id": "jYP69lZ6SXjf",
        "colab_type": "code",
        "colab": {
          "base_uri": "https://localhost:8080/",
          "height": 133
        },
        "outputId": "6221b774-7507-4bfb-a06f-a22fdeaa040a"
      },
      "source": [
        "from keras.layers import Conv2D,Dense,Flatten,Dropout,MaxPooling2D, BatchNormalization, Activation\n",
        "from keras.preprocessing.image import ImageDataGenerator\n",
        "from keras.callbacks import ReduceLROnPlateau\n",
        "from keras.callbacks import ModelCheckpoint, EarlyStopping\n",
        "import keras.optimizers as optimizers\n",
        "from sklearn.metrics import classification_report, confusion_matrix\n",
        "from sklearn.model_selection import (train_test_split, GridSearchCV)\n",
        "from sklearn.metrics import f1_score,accuracy_score,confusion_matrix,precision_score,recall_score,auc, roc_curve, roc_auc_score\n",
        "\n",
        "from sklearn.preprocessing import StandardScaler\n",
        "from sklearn.preprocessing import (LabelEncoder,OneHotEncoder, StandardScaler)  \n",
        "from sklearn import model_selection\n",
        "from sklearn.externals import joblib\n",
        "import seaborn as sns; sns.set(style=\"ticks\", color_codes=True)\n",
        "import keras\n",
        "import math\n",
        "from keras.utils.vis_utils import plot_model\n",
        "import pandas as pd\n",
        "from sklearn import preprocessing\n",
        "import numpy as np"
      ],
      "execution_count": 1,
      "outputs": [
        {
          "output_type": "stream",
          "text": [
            "Using TensorFlow backend.\n"
          ],
          "name": "stderr"
        },
        {
          "output_type": "display_data",
          "data": {
            "text/html": [
              "<p style=\"color: red;\">\n",
              "The default version of TensorFlow in Colab will soon switch to TensorFlow 2.x.<br>\n",
              "We recommend you <a href=\"https://www.tensorflow.org/guide/migrate\" target=\"_blank\">upgrade</a> now \n",
              "or ensure your notebook will continue to use TensorFlow 1.x via the <code>%tensorflow_version 1.x</code> magic:\n",
              "<a href=\"https://colab.research.google.com/notebooks/tensorflow_version.ipynb\" target=\"_blank\">more info</a>.</p>\n"
            ],
            "text/plain": [
              "<IPython.core.display.HTML object>"
            ]
          },
          "metadata": {
            "tags": []
          }
        },
        {
          "output_type": "stream",
          "text": [
            "/usr/local/lib/python3.6/dist-packages/sklearn/externals/joblib/__init__.py:15: DeprecationWarning: sklearn.externals.joblib is deprecated in 0.21 and will be removed in 0.23. Please import this functionality directly from joblib, which can be installed with: pip install joblib. If this warning is raised when loading pickled models, you may need to re-serialize those models with scikit-learn 0.21+.\n",
            "  warnings.warn(msg, category=DeprecationWarning)\n"
          ],
          "name": "stderr"
        }
      ]
    },
    {
      "cell_type": "code",
      "metadata": {
        "id": "fAhblNzc8Umc",
        "colab_type": "code",
        "colab": {}
      },
      "source": [
        "from sklearn import metrics\n",
        "import tensorflow as tf\n",
        "from keras import backend as K\n",
        "\n",
        "def auc(y_true, y_pred):\n",
        "    auc = tf.metrics.auc(y_true, y_pred)[1]\n",
        "    K.get_session().run(tf.local_variables_initializer())\n",
        "    return auc\n",
        "\n",
        "from keras.models import load_model"
      ],
      "execution_count": 0,
      "outputs": []
    },
    {
      "cell_type": "markdown",
      "metadata": {
        "id": "_zfRS08tz35z",
        "colab_type": "text"
      },
      "source": [
        "## Metadata"
      ]
    },
    {
      "cell_type": "code",
      "metadata": {
        "id": "wDRaxSXscZVs",
        "colab_type": "code",
        "colab": {}
      },
      "source": [
        "X_test_metadata = np.load('metadata_X_test.npy',allow_pickle=True)\n",
        "Y_test_metadata = np.load('metadata_Y_test.npy',allow_pickle=True)"
      ],
      "execution_count": 0,
      "outputs": []
    },
    {
      "cell_type": "code",
      "metadata": {
        "id": "IlcoupjXz_FJ",
        "colab_type": "code",
        "colab": {}
      },
      "source": [
        "# load the model from disk\n",
        "filename_metadata = 'metadata_model_svm_v1.sav'\n",
        "loaded_model_metadata_svm = joblib.load(filename_metadata)"
      ],
      "execution_count": 0,
      "outputs": []
    },
    {
      "cell_type": "markdown",
      "metadata": {
        "id": "KKAGdfFB8ENm",
        "colab_type": "text"
      },
      "source": [
        "### SVM"
      ]
    },
    {
      "cell_type": "code",
      "metadata": {
        "id": "-ZPpbkFN-xe_",
        "colab_type": "code",
        "colab": {}
      },
      "source": [
        "## Datos de hoy 17 dic 2019:\n",
        "# Backers: 140\n",
        "# Goal: 200000\n",
        "# Pledged: 32728\n",
        "# Duration: 40"
      ],
      "execution_count": 0,
      "outputs": []
    },
    {
      "cell_type": "code",
      "metadata": {
        "id": "5x_gNxmi3MgT",
        "colab_type": "code",
        "outputId": "c2e9263b-bb82-4b7d-81ae-22d3808f6744",
        "colab": {
          "base_uri": "https://localhost:8080/",
          "height": 151
        }
      },
      "source": [
        "print(\"Número de patrocinadores: \")\n",
        "backer = input()\n",
        "backer = float(backer)\n",
        "print(\"Meta: \")\n",
        "goal = input()\n",
        "goal = float(goal)\n",
        "print(\"Monto invertido: \")\n",
        "pledge = input()\n",
        "pledge = float(pledge)\n",
        "print(\"Duración de la campaña: \")\n",
        "duration = input()\n",
        "duration = float(duration)"
      ],
      "execution_count": 4,
      "outputs": [
        {
          "output_type": "stream",
          "text": [
            "Número de patrocinadores: \n",
            "140\n",
            "Meta: \n",
            "200000\n",
            "Monto invertido: \n",
            "32728\n",
            "Duración de la campaña: \n",
            "40\n"
          ],
          "name": "stdout"
        }
      ]
    },
    {
      "cell_type": "code",
      "metadata": {
        "id": "1Z7uB6lW21qS",
        "colab_type": "code",
        "outputId": "273985a2-2ef8-4da5-cc35-7d912449a5c8",
        "colab": {
          "base_uri": "https://localhost:8080/",
          "height": 34
        }
      },
      "source": [
        "array_prueba = [backer, goal, pledge, duration]\n",
        "array_prueba = np.asarray(array_prueba).reshape(4,1)\n",
        "min_max_scaler = preprocessing.MinMaxScaler(feature_range=(0, 1))\n",
        "array_prueba = min_max_scaler.fit_transform(array_prueba).reshape(1,4)\n",
        "print(array_prueba)"
      ],
      "execution_count": 5,
      "outputs": [
        {
          "output_type": "stream",
          "text": [
            "[[5.00100020e-04 1.00000000e+00 1.63472695e-01 0.00000000e+00]]\n"
          ],
          "name": "stdout"
        }
      ]
    },
    {
      "cell_type": "code",
      "metadata": {
        "id": "0niMOcqdfpfM",
        "colab_type": "code",
        "outputId": "37b0b435-c57a-468b-e5c1-322c1a18ed8a",
        "colab": {
          "base_uri": "https://localhost:8080/",
          "height": 34
        }
      },
      "source": [
        "#array_prueba = X_test_metadata[8]\n",
        "#array_prueba\n",
        "# backers_count       7257.0\n",
        "# goal              100000.0\n",
        "# pledged          1688179.6\n",
        "# duration              49.0"
      ],
      "execution_count": 69,
      "outputs": [
        {
          "output_type": "execute_result",
          "data": {
            "text/plain": [
              "array([0.0058664 , 0.00199999, 0.00503864, 0.48351648])"
            ]
          },
          "metadata": {
            "tags": []
          },
          "execution_count": 69
        }
      ]
    },
    {
      "cell_type": "code",
      "metadata": {
        "id": "KwGlwfN5eGXL",
        "colab_type": "code",
        "outputId": "e8075969-32e5-4eac-9b40-4db2199e4696",
        "colab": {
          "base_uri": "https://localhost:8080/",
          "height": 50
        }
      },
      "source": [
        "predict_metadata_svm = loaded_model_metadata_svm.predict(array_prueba.reshape(-1,4))\n",
        "predict_metadata_svm = list(map(lambda x: 'successful' if x == 1 else 'failed', predict_metadata_svm))\n",
        "\n",
        "print('Prediction state:\\t %s\\nSuccessful probability:\\t %.2f%%' %\\\n",
        "      (predict_metadata_svm[0], \n",
        "       (1-loaded_model_metadata_svm.predict_proba(array_prueba.reshape(-1,4))[0][0])*100))"
      ],
      "execution_count": 6,
      "outputs": [
        {
          "output_type": "stream",
          "text": [
            "Prediction state:\t failed\n",
            "Successful probability:\t 0.00%\n"
          ],
          "name": "stdout"
        }
      ]
    },
    {
      "cell_type": "markdown",
      "metadata": {
        "id": "DxIJdJqF8ITq",
        "colab_type": "text"
      },
      "source": [
        "### MLN"
      ]
    },
    {
      "cell_type": "code",
      "metadata": {
        "id": "pA9I_a2fSM8W",
        "colab_type": "code",
        "outputId": "e7c988c5-b2c6-4c62-dc61-3282e7dd0156",
        "colab": {
          "base_uri": "https://localhost:8080/",
          "height": 658
        }
      },
      "source": [
        "# If I want to load it\n",
        "loaded_model_metadata_mln = load_model('metadata_model_rna_v1.h5',custom_objects={'auc':auc})"
      ],
      "execution_count": 7,
      "outputs": [
        {
          "output_type": "stream",
          "text": [
            "WARNING:tensorflow:From /usr/local/lib/python3.6/dist-packages/keras/backend/tensorflow_backend.py:541: The name tf.placeholder is deprecated. Please use tf.compat.v1.placeholder instead.\n",
            "\n",
            "WARNING:tensorflow:From /usr/local/lib/python3.6/dist-packages/keras/backend/tensorflow_backend.py:4432: The name tf.random_uniform is deprecated. Please use tf.random.uniform instead.\n",
            "\n",
            "WARNING:tensorflow:From /usr/local/lib/python3.6/dist-packages/keras/backend/tensorflow_backend.py:66: The name tf.get_default_graph is deprecated. Please use tf.compat.v1.get_default_graph instead.\n",
            "\n",
            "WARNING:tensorflow:From /usr/local/lib/python3.6/dist-packages/keras/backend/tensorflow_backend.py:148: The name tf.placeholder_with_default is deprecated. Please use tf.compat.v1.placeholder_with_default instead.\n",
            "\n",
            "WARNING:tensorflow:From /usr/local/lib/python3.6/dist-packages/keras/backend/tensorflow_backend.py:3733: calling dropout (from tensorflow.python.ops.nn_ops) with keep_prob is deprecated and will be removed in a future version.\n",
            "Instructions for updating:\n",
            "Please use `rate` instead of `keep_prob`. Rate should be set to `rate = 1 - keep_prob`.\n",
            "WARNING:tensorflow:From /usr/local/lib/python3.6/dist-packages/keras/backend/tensorflow_backend.py:190: The name tf.get_default_session is deprecated. Please use tf.compat.v1.get_default_session instead.\n",
            "\n",
            "WARNING:tensorflow:From /usr/local/lib/python3.6/dist-packages/keras/backend/tensorflow_backend.py:197: The name tf.ConfigProto is deprecated. Please use tf.compat.v1.ConfigProto instead.\n",
            "\n",
            "WARNING:tensorflow:From /usr/local/lib/python3.6/dist-packages/keras/backend/tensorflow_backend.py:203: The name tf.Session is deprecated. Please use tf.compat.v1.Session instead.\n",
            "\n",
            "WARNING:tensorflow:From /usr/local/lib/python3.6/dist-packages/keras/backend/tensorflow_backend.py:207: The name tf.global_variables is deprecated. Please use tf.compat.v1.global_variables instead.\n",
            "\n",
            "WARNING:tensorflow:From /usr/local/lib/python3.6/dist-packages/keras/backend/tensorflow_backend.py:216: The name tf.is_variable_initialized is deprecated. Please use tf.compat.v1.is_variable_initialized instead.\n",
            "\n",
            "WARNING:tensorflow:From /usr/local/lib/python3.6/dist-packages/keras/backend/tensorflow_backend.py:223: The name tf.variables_initializer is deprecated. Please use tf.compat.v1.variables_initializer instead.\n",
            "\n",
            "WARNING:tensorflow:From /usr/local/lib/python3.6/dist-packages/keras/optimizers.py:793: The name tf.train.Optimizer is deprecated. Please use tf.compat.v1.train.Optimizer instead.\n",
            "\n",
            "WARNING:tensorflow:From /usr/local/lib/python3.6/dist-packages/keras/backend/tensorflow_backend.py:3657: The name tf.log is deprecated. Please use tf.math.log instead.\n",
            "\n",
            "WARNING:tensorflow:From /usr/local/lib/python3.6/dist-packages/tensorflow_core/python/ops/nn_impl.py:183: where (from tensorflow.python.ops.array_ops) is deprecated and will be removed in a future version.\n",
            "Instructions for updating:\n",
            "Use tf.where in 2.0, which has the same broadcast rule as np.where\n",
            "WARNING:tensorflow:From /usr/local/lib/python3.6/dist-packages/tensorflow_core/python/ops/metrics_impl.py:808: div (from tensorflow.python.ops.math_ops) is deprecated and will be removed in a future version.\n",
            "Instructions for updating:\n",
            "Deprecated in favor of operator or tf.math.divide.\n",
            "WARNING:tensorflow:From /usr/local/lib/python3.6/dist-packages/keras/backend/tensorflow_backend.py:1033: The name tf.assign_add is deprecated. Please use tf.compat.v1.assign_add instead.\n",
            "\n",
            "WARNING:tensorflow:From /usr/local/lib/python3.6/dist-packages/keras/backend/tensorflow_backend.py:1020: The name tf.assign is deprecated. Please use tf.compat.v1.assign instead.\n",
            "\n"
          ],
          "name": "stdout"
        }
      ]
    },
    {
      "cell_type": "code",
      "metadata": {
        "id": "N9eEkVKH8fLY",
        "colab_type": "code",
        "outputId": "e03d29c1-f233-4329-e1b5-5a518292b955",
        "colab": {
          "base_uri": "https://localhost:8080/",
          "height": 67
        }
      },
      "source": [
        "predict_metadata_mln = loaded_model_metadata_mln.predict(array_prueba.reshape(-1,4),verbose=1).ravel()\n",
        "predict_metadata_mln = np.round(predict_metadata_mln)\n",
        "predict_metadata_mln = list(map(lambda x: 'successful' if x == 1 else 'failed', predict_metadata_mln))\n",
        "\n",
        "print('Prediction state:\\t %s\\nSuccessful probability:\\t %.2f%%' %\\\n",
        "      (predict_metadata_mln[0], \n",
        "       loaded_model_metadata_mln.predict_proba(array_prueba.reshape(-1,4))[0][0]*100))"
      ],
      "execution_count": 8,
      "outputs": [
        {
          "output_type": "stream",
          "text": [
            "\r1/1 [==============================] - 1s 791ms/step\n",
            "Prediction state:\t failed\n",
            "Successful probability:\t 0.00%\n"
          ],
          "name": "stdout"
        }
      ]
    },
    {
      "cell_type": "markdown",
      "metadata": {
        "id": "Iv03IChTz7dp",
        "colab_type": "text"
      },
      "source": [
        "## Imágenes"
      ]
    },
    {
      "cell_type": "code",
      "metadata": {
        "id": "Kg72khJaR51q",
        "colab_type": "code",
        "colab": {}
      },
      "source": [
        "from keras.models import load_model, Sequential\n",
        "import numpy as np\n",
        "import cv2\n",
        "import matplotlib.pyplot as plt\n",
        "import glob\n",
        "import cv2\n",
        "import shutil\n",
        "from skimage import io\n",
        "\n",
        "# Modelo para imágenes\n",
        "modelVGG = load_model('images_model.h5',custom_objects={'auc':auc})"
      ],
      "execution_count": 0,
      "outputs": []
    },
    {
      "cell_type": "code",
      "metadata": {
        "id": "BoZ4ImieqaTp",
        "colab_type": "code",
        "colab": {}
      },
      "source": [
        "image_src = \"https://ksr-ugc.imgix.net/assets/027/401/010/10469f11a9efdf9de0f8f5ef477e7838_original.png?ixlib=rb-2.1.0&crop=faces&w=1024&h=576&fit=crop&v=1575319230&auto=format&frame=1&q=92&s=fb7830883445b3348ba8487ab4ee1c43\""
      ],
      "execution_count": 0,
      "outputs": []
    },
    {
      "cell_type": "code",
      "metadata": {
        "id": "z2ziHQFuTqzI",
        "colab_type": "code",
        "outputId": "3bd9f7b7-d557-4f99-f842-c0a08bb949ae",
        "colab": {
          "base_uri": "https://localhost:8080/",
          "height": 271
        }
      },
      "source": [
        "#img = cv2.imread('gamecube.jpg',0)      #Esto para cargar una imagen local\n",
        "img = io.imread(image_src)\n",
        "img_resized=cv2.resize(img, (180,180))\n",
        "plt.imshow(img_resized, cmap='gray')\n",
        "cv2.imwrite(\"imagen.png\", img_resized)\n",
        "del img"
      ],
      "execution_count": 192,
      "outputs": [
        {
          "output_type": "display_data",
          "data": {
            "image/png": "[encoded data removed]",
            "text/plain": [
              "<Figure size 432x288 with 1 Axes>"
            ]
          },
          "metadata": {
            "tags": []
          }
        }
      ]
    },
    {
      "cell_type": "code",
      "metadata": {
        "id": "rNAn5wNMVQaO",
        "colab_type": "code",
        "outputId": "48ba2ad5-35e6-4614-d141-50cbf96d2e12",
        "colab": {
          "base_uri": "https://localhost:8080/",
          "height": 34
        }
      },
      "source": [
        "from keras.preprocessing.image import load_img\n",
        "from keras.preprocessing.image import img_to_array\n",
        "xs = []\n",
        "x1 = load_img(\"imagen.png\")\n",
        "y1 = img_to_array(x1)/255.0\n",
        "xs.append(y1)\n",
        "del x1\n",
        "array_image = np.asarray(xs)\n",
        "del xs\n",
        "array_image.shape"
      ],
      "execution_count": 193,
      "outputs": [
        {
          "output_type": "execute_result",
          "data": {
            "text/plain": [
              "(1, 180, 180, 3)"
            ]
          },
          "metadata": {
            "tags": []
          },
          "execution_count": 193
        }
      ]
    },
    {
      "cell_type": "code",
      "metadata": {
        "id": "M3tyzwQ1SSY2",
        "colab_type": "code",
        "outputId": "1d0b7f22-f2e1-4ac4-cdd8-2e7dd97bcc18",
        "colab": {
          "base_uri": "https://localhost:8080/",
          "height": 67
        }
      },
      "source": [
        "predict_images = modelVGG.predict(array_image,verbose=1).ravel()\n",
        "predict_images = np.round(predict_images)\n",
        "predict_images = list(map(lambda x: 'successful' if x == 1 else 'failed', predict_images))\n",
        "\n",
        "print('Prediction state:\\t %s\\nSuccessful probability:\\t %.2f%%' %\\\n",
        "      (predict_images[0], \n",
        "       modelVGG.predict_proba(array_image)[0][0]*100))"
      ],
      "execution_count": 194,
      "outputs": [
        {
          "output_type": "stream",
          "text": [
            "\r1/1 [==============================] - 1s 875ms/step\n",
            "Prediction state:\t successful\n",
            "Successful probability:\t 51.19%\n"
          ],
          "name": "stdout"
        }
      ]
    },
    {
      "cell_type": "markdown",
      "metadata": {
        "id": "-3Ou2TTGz86C",
        "colab_type": "text"
      },
      "source": [
        "## Descripciones"
      ]
    },
    {
      "cell_type": "code",
      "metadata": {
        "id": "zxQodbBWDVKL",
        "colab_type": "code",
        "colab": {}
      },
      "source": [
        "from sklearn.externals import joblib\n",
        "import numpy as np"
      ],
      "execution_count": 0,
      "outputs": []
    },
    {
      "cell_type": "code",
      "metadata": {
        "id": "CxlJhA0S1r_4",
        "colab_type": "code",
        "colab": {}
      },
      "source": [
        "## Esta es la mitad de la descripción del proyecto que estamos evaluando\n",
        "#The Ifs is a new educational toy that teaches kids from 3 to 10 years old the basics of computer programming. It consists of a family of four robots in which each member has different superpowers. Children imagine amazing adventures and bring them to life by programming the robots. The Ifs strengthens learning through play in early childhood and is suitable for middle childhood to learn more complex concepts. The Ifs gets your child moving. Coding is just the beginning of the game! It requires imagination and can be used in lots of different ways. It is suitable for a wide range of ages and abilities. It encourages interaction with siblings, friends, and especially with parents. It uses narrative learning, so children learn and play with the stories of our robot family. As parents and educators, our goal is to help children develop safe and healthy habits for technology use. With this in mind, we designed The Ifs to empower our own kids and students to become creative, engaged, lifelong learners. These skills are essential so children can invent their own future. Preschoolers from 3 years play The Ifs with their parents and experiment with light, music, color, or even emotions. From 4 to 6 years, children use their imaginations to combine basic blocks in amazing adventures with flashlights, traps, or chain reactions. Kids from 6 to 8 years use the whole set of blocks to create awesome inventions, such as a wireless alarm, a Morse phone, or a pet feeder. From 8 to 10 years, children discover how to program the robots using Scratch for Arduino and also how to design and 3D print funny costumes. Parents don’t need any coding experience. The Ifs is designed to be intuitive and easy to use, and parents play with their kids without worry. Nevertheless, if you are a coding geek, The Ifs is an Open Source project, and we would love you to contribute. Hands-on learning is the process of learning by doing. Children explore, follow their curiosity, and discover things on their own and with each other. We know kids naturally play and love making things with their own hands. It’s also true that technology is an important part of our world that is transforming childhood education. We embrace these ideas so children are able to build code by physically placing blocks in the robot’s head with the help of magnets. As parents and educators, we know that regulating children’s screen time is a constant battle. The Ifs are programmed without screens, using blocks with different colors and intuitive images to represent the instructions. Tangible programming makes coding easy and accessible to everyone, even children from the age of three, before learning to read or write. Learning a computer programming language is a complex and usually frustrating task that takes years to master. Clearly, not every kid will be interested in a career in computer science, but having basic coding skills is becoming appreciated in many other job sectors such as engineering, science, art, and design. Learning the basics at an early age provides a positive experience and builds self-confidence to grasp more abstract concepts at school. The Ifs are full of sensors and actuators, but they need some instructions in order to function. Programming them is as simple as placing blocks on their heads with the help of magnets. No screens are involved. Tangible programming makes coding easy and accessible to children of a wide range of ages and abilities. The robots are programmed using two different blocks: if (condition), then (action). Each block has a different image serving as an intuitive symbol to represent an instruction. Combining these two parts, kids play with loops, statements, and algorithms while also creating their own stories: building a flashlight to read in bed after lights-out or making an alarm to protect the cookie jar. The Ifs teach your child the basics of computer programming: More important, The Ifs require imagination, encourage interaction with others, and promote healthy habits for technology use: The Ifs are designed for fun and adventure. Fun has a positive effect on motivation, determining what we learn and how much we retain. Learning requires repetition and dedication. If the experience is fun, kids will stay curious and keep coming back for more. Check out these awesome games that our kids love to play with The Ifs: Scavenger hunt: Parents combine the blocks so the robots call the others under different actions, such as shaking or turning them upside down. The robots are hidden around the house, and one of them is given to the children as the first clue. Using the symbols in the blocks or just experimenting, kids discover the action that makes the robot to light up and call the others, that will respond with a beep. Children run around the house, activating the robots, listening to the beeps, and discovering one after another. Dancing orchestra: Each child takes a robot and a block for playing an instrument (such as drums, cymbals, or maracas) and another block from the different physical actions (such as jump, shake or tap). Parents turn music on, and children dance and move to activate the robots and follow the rhythm of their favorite songs. Any time the music stops, children must exchange robots. Treasure trap: Protect your favorite toys and sweets from your little sibling. Combine the blocks so the robot imitates a lion’s roar when it detects a change in the ambient light. Put the robot inside your treasure chest (any box or a closet) and close the lid. If your little sibling tries to open it, the robot wakes up and roars to scare him. Angry robots: This game is perfect for toddlers to explore emotions. Parents combine the blocks so Holly expresses emotions (making sounds) for different physical actions. For instance, fear when you turn her upside down, joy when you blow on her face, or anger when you shake her. Each playset comes with everything you need to begin your coding adventure: The Ifs are a family of four interconnected robots, full of sensors and actuators. They  are able to work together to solve problems and complete various actions – from measuring movements, light, sound, temperature and humidity to speaking, singing, imitating, vibrating and lighting up. Each member of the robot family, including Emma, Liam, Noah and Holly, has a unique function or ‘super power’: movement, emotions, a presence detector, and color changes. Emma is the mother of the family. She blends in with the background, just like a chameleon, using her color sensor. Liam is the father. If someone gets too close and tries to trick him, he will wake up thanks to his presence detector. Noah is the eldest son. He is very lively and he’s always on the move, shaking to create chain reactions. Holly is the youngest robot of the family. She expresses her emotions, depending on how she’s programmed. Starting from simple concepts, children can create their own characters using tools  like Tinkercad and 3d printing. The gender gap persists in the tech field. Getting more women into tech will lead to innovations that reflect the wants and needs of half the population. Inspiring young girls to develop an interest in STEM is crucial to overcome this gap. Nowadays, the majority of STEM toys, especially robots, are targeted to boys. Fortunately, this is changing, and more and more tech toys for girls and boys are coming to the market. We wanted to do our part, so we designed The Ifs gender-neutral so that parents do not identify the toy with a gender and can buy it for both boys and girls. We also like the idea of mixing robots with characters that represent family members so children learn and play with the stories of our awesome robot family. The Ifs are not only for children but also for parents committed to Open Source technology. We are growing a community to share our latest developments and incorporate the feedback and contributions of all the users. Even more, the heart of The Ifs is an electronic board compatible with the Arduino IDE. This feature, together with the Open Source firmware, makes The Ifs fully customizable and perfect for your next DIY project! Finally, if the campaign is successful, we will release the schematics of a basic electronic board so anyone can build their own robot at home. The Ifs Single - Includes Holly, the youngest robot of the family, and the basic set of coding blocks. Plus the playing cards and the first storybook. The Ifs Duo - Includes Holly and Noah robots, the children of the family, and the Intermediate set of coding blocks. Plus the playing cards and the first and second storybook. The Ifs Family - Includes the whole robot family (Holly, Noah, Emma and Liam) and the complete set of coding blocks. Plus the playing cards and the three storybooks. We recommend this package for your child to get the full experience. The Ifs School - This pledge allows you to support the project in a HUGE way. This is a specific reward for a school, coding club, or the institution of your choice. It includes a book with classroom activities and virtual training, and we will travel to your location if you fund the trip. Also, lifetime membership to our online resource center. We are super enthusiastic about all the exciting things that you will be using The Ifs for. Also, we are constantly thinking about new and innovative use cases. By expanding the variety of coding blocks, we hope to further inspire children by the endless possibilities of programming. Our stretch goal will be 200,000 EUR. We look forward to continuing our development so we can bring a further improved product to you. Everything is ready to go, and we just need your support. We have already verified the operation on the prototypes, but to put our product into mass production, we need your help. We thank you for your support and hope you will share in our vision. We want to be as transparent as possible and take you along every step of the way."
      ],
      "execution_count": 0,
      "outputs": []
    },
    {
      "cell_type": "code",
      "metadata": {
        "id": "W9tOvb9alHMQ",
        "colab_type": "code",
        "colab": {}
      },
      "source": [
        "### Acá probaré con el texto de un proyecto exitoso (\"successful\"):\n",
        "#Hello Kickstarter! We are excited to launch and share our first product - the ODIN - with the Kickstarter community. With your help, we will produce the first Android \\'Smart\\' projector that directly projects online content from a compact, battery-operated device allowing sharing and viewing in unlimited ways. We are thrilled with ODIN and we think you will be too. We hope you will support our campaign with contributions and by spreading the word to your community! ODIN is the ideal product for people who consume most of their entertainment using Netflix, Hulu, Amazon, the web and mobile applications. As we consume more information via the Internet, we need a compact, portable device that gives us a large visual display. These are just some of the activities you can accomplish with ODIN. We are sure that you will think of thousands of other ways. Sometimes when a problem offers no apparent answers, the only solution is to radically alter the operating parameters. After being continuously frustrated with paying for cable service I wasn’t using, I decided to make the bold move to cancel my subscription. I was getting all my news and entertainment via the Internet and my mobile phone – watching cable shows on my television was something I rarely did. Even though my new arrangement was liberating and financially empowering, I soon noticed that I missed the enjoyment of sitting back in my living room and catching a movie on a widescreen television. I decided to venture out and find a device that would meet my needs. I wanted a product that could handle all my viewing apps (Youtube, Netflix, Hulu, etc.). To my dismay, the only way I could achieve what I desired was hooking up my computer to a bulky projector (prone to inconvenient overheating) and separate, external speakers. Long story short, that search morphed into the initial idea for the creation of Dos Owls – a multi-functional, portable visual display that solves a slew of A/V problems and opens the door to a limitless universe of content sharing possibilities. It’s battery-powered, wireless (WiFi and Bluetooth), compact and connects effortlessly with the Internet. Necessity sparked invention and I haven’t looked back since. - Alex Yoo, Founder ODIN combines an Android powered PC, state-of-the-art projector, Bluetooth speakers and WiFi in a compact, portable gadget. It is battery operated and can meet the demands of today\\'s digital consumers and creators who value mobility and freedom. Optical Display Contains state-of-the-art DMD optical technology that beams powerful LED light and a large screen size. Place it 10 yards away for a 250\" screen size. ODIN\\'s optical lens is so strong, you can see the projected screen with normal indoor lighting at up to 45\" screen size, which is bigger than most flat screen TVs. ANDROID KITKAT OS Our intuitive user interface allows for simple navigation and organization of all your apps. ODIN uses a quad-core Android microprocessor and KitKat operating system, which provides access to over 1 million Android apps. CONNECTIVITY ODIN includes array of connection methods. Built in WiFi wirelessly connects to the Internet as well as a phone’s hotspot. Embedded Bluetooth allows for easy communication between external Bluetooth speakers, keyboard, mouse, and other accessories. ODIN has an HDMI port to connect to Xbox or Playstation, two USB drives for a keyboard, mouse, or flash drives, and a headphone plug. BLUETOOTH SPEAKERS ODIN has two play modes: A. Full projector mode using the projector, speakers and access to Android apps B. Bluetooth speaker mode for streaming music from your phone directly to the two speakers BATTERY ODIN\\'s battery provides about 2 hours of run-time in portable mode. For extended viewing and charging, just connect ODIN to an outlet with the included power cord. FUNCTIONAL DESIGN ODIN is designed with flexibility in mind. Beam onto a wall, or rotate the head 90 degrees and display content on the ceiling for a truly unique viewing experience. (Patent Pending) COMPACT SIZE ODIN is lightweight and similarly sized to a typical paperback book. It can be easily carried in your briefcase, tote bag or jacket pocket for portability. It is 6\" long, 4.25\" wide, 1.8\" thick, and weighs 1.7 pounds. We think pictures do a much better job than any text. Video below is a live demo during TechCrunch Disrupt. There are many artistic and creative uses for ODIN. For example, use it to create murals and other wall art, as part of an interactive art display, or as a backdrop to a party. ALEX YOO BIO - FOUNDER Originally from the suburbs of Chicago and currently residing in Bed-Stuy, Brooklyn, Alex Yoo earned his first professional experience in the fast-paced financial world of Wall Street. For five years, he plied his trade diligently at Houlihan Lokey, Nomura Securities and Tri Artisan Partners. However, he soon grew restless with the repetitive PowerPoint presentations and Excel sheets, so he decided to make a change. His next venture came about as a matter of necessity. A habitual sharp dresser, he’d always had difficulty finding dress shirts that worked for his body frame. He took a bold risk and launched an online custom shirt company called Alexander West. He poured all his energy and resources into the business, and Alexander West is presently an established player in the NYC custom clothing market. Alex’s newest project is a tech venture called Dos Owls. The idea stemmed from a desire to enjoy his NetFlix/Hulu content on a more compact, multi-functional device. The first Dos Owls product is called ODIN, and it has several distinct features including an Android processor, portable theater-like viewing, wireless connectivity, exceptional sound output and innovative design. DOS OWLS TEAM Brooklyn Creative Team China Engineering / Production Team Alex Yoo: The initial concept for what is now the Dos Owls ODIN first appeared about two years ago and I started working on developing ODIN in the Spring of 2013. Since I did not come from a technology / engineering background, I had to teach my self the basics of mechanical, industrial, optical, and electrical engineering in addition to design for manufacturing and software development (firmware/OS/application). First, I attended as many hardware workshops as possible (e.g., Hardware Innovation Workshop by MAKE and Hardware Workshop organized by Marc Barros) and talked to anyone that was in hardware technology development as well as a lot of relevant reading. I also started attending relevant Meetup groups around the NYC area and joined Hack Manhattan hackerspace to hang around technology enthusiasts and makers. The biggest development hurdle in the beginning was finding skilled and experienced engineers who could develop ODIN in addition to being economically feasible. Due to limited resources, I looked to Asia. With persistence, patience and many trips to Asia, I created connections to talented and experienced Chinese engineers and manufacturers. Shezhen, China has an amazing infrastructure of experienced engineers and electronic production facilities that can\\'t be compared to anywhere in the world. Our first prototype, based on a dual-core microprocessor, failed to meet our high expectations for performance and user experience. Therefore, we are currently upgrading all of our hardware specifications (to quad-core, more RAM, Bluetooth 4.0, among others) to have robust performance using Andorid 4.4 KitKat operating system. PLEASE NOTE THAT FINAL SPECIFICATIONS CAN CHANGE. ALL OF OUR REFINEMENTS WILL BE TO IMPROVE THE DEVICE. GENERAL INTERNALS OPTICAL TECHNOLOGY POWER CONNECTIONS AUDIO TIMELINE TO SHIPPING JUNE JULY AUGUST SEPTEMBER OCTOBER NOVEMBER / DECEMBER We are currently looking for strategic business partners and financial partners with hardware experience. Please contact alex@dosowls.com. Each ODIN box will include ODIN, power cord and protective carrying case. MyType Keyboard sucessfully funded on Kickstarter on Augusut 2013. Already backing a different reward? Just add $50 per myType to your existing pledge. Kickstarter Link:http://kck.st/18iA3Sc"
      ],
      "execution_count": 0,
      "outputs": []
    },
    {
      "cell_type": "code",
      "metadata": {
        "id": "n9JNlmuXpNNK",
        "colab_type": "code",
        "outputId": "db7b46b4-3a5d-44b7-af5d-ec766589d726",
        "colab": {
          "base_uri": "https://localhost:8080/",
          "height": 70
        }
      },
      "source": [
        "print(\"Escriba una descripción para la campaña de su proyecto: \")\n",
        "descripcion = input()"
      ],
      "execution_count": 11,
      "outputs": [
        {
          "output_type": "stream",
          "text": [
            "Escriba una descripción para la campaña de su proyecto: \n",
            "The Ifs is a new educational toy that teaches kids from 3 to 10 years old the basics of computer programming. It consists of a family of four robots in which each member has different superpowers. Children imagine amazing adventures and bring them to life by programming the robots. The Ifs strengthens learning through play in early childhood and is suitable for middle childhood to learn more complex concepts. The Ifs gets your child moving. Coding is just the beginning of the game! It requires imagination and can be used in lots of different ways. It is suitable for a wide range of ages and abilities. It encourages interaction with siblings, friends, and especially with parents. It uses narrative learning, so children learn and play with the stories of our robot family. As parents and educators, our goal is to help children develop safe and healthy habits for technology use. With this in mind, we designed The Ifs to empower our own kids and students to become creative, engaged, lifelong learners. These skills are essential so children can invent their own future. Preschoolers from 3 years play The Ifs with their parents and experiment with light, music, color, or even emotions. From 4 to 6 years, children use their imaginations to combine basic blocks in amazing adventures with flashlights, traps, or chain reactions. Kids from 6 to 8 years use the whole set of blocks to create awesome inventions, such as a wireless alarm, a Morse phone, or a pet feeder. From 8 to 10 years, children discover how to program the robots using Scratch for Arduino and also how to design and 3D print funny costumes. Parents don’t need any coding experience. The Ifs is designed to be intuitive and easy to use, and parents play with their kids without worry. Nevertheless, if you are a coding geek, The Ifs is an Open Source project, and we would love you to contribute. Hands-on learning is the process of learning by doing. Children explore, follow their curiosity, and discover things on their own and with each other. We know kids naturally play and love making things with their own hands. It’s also true that technology is an important part of our world that is transforming childhood education. We embrace these ideas so children are able to build code by physically placing blocks in the robot’s head with the help of magnets. As parents and educators, we know that regulating children’s screen time is a constant battle. The Ifs are programmed without screens, using blocks with different colors and intuitive images to represent the instructions. Tangible programming makes coding easy and accessible to everyone, even children from the age of three, before learning to read or write. Learning a computer programming language is a complex and usually frustrating task that takes years to master. Clearly, not every kid will be interested in a career in computer science, but having basic coding skills is becoming appreciated in many other job sectors such as engineering, science, art, and design. Learning the basics at an early age provides a positive experience and builds self-confidence to grasp more abstract concepts at school. The Ifs are full of sensors and actuators, but they need some instructions in order to function. Programming them is as simple as placing blocks on their heads with the help of magnets. No screens are involved. Tangible programming makes coding easy and accessible to children of a wide range of ages and abilities. The robots are programmed using two different blocks: if (condition), then (action). Each block has a different image serving as an intuitive symbol to represent an instruction. Combining these two parts, kids play with loops, statements, and algorithms while also creating their own stories: building a flashlight to read in bed after lights-out or making an alarm to protect the cookie jar. The Ifs teach your child the basics of computer programming: More important, The Ifs require imagination, encourage interaction with others, and promote healthy habits for technology use: The Ifs are designed for fun and adventure. Fun has a positive effect on motivation, determining what we learn and how much we retain. Learning requires repetition and dedication. If the experience is fun, kids will stay curious and keep coming back for more. Check out these awesome games that our kids love to play with The Ifs: Scavenger hunt: Parents combine the blocks so the robots call the others under different actions, such as shaking or turning them upside down. The robots are hidden around the house, and one of them is given to the children as the first clue. Using the symbols in the blocks or just experimenting, kids discover the action that makes the robot to light up and call the others, that will respond with a beep. Children run around the house, activating the robots, listening to the beeps, and discovering one after another. Dancing orchestra: Each child takes a robot and a block for playing an instrument (such as drums, cymbals, or maracas) and another block from the different physical actions (such as jump, shake or tap). Parents turn music on, and children dance and move to activate the robots and follow the rhythm of their favorite songs. Any time the music stops, children must exchange robots. Treasure trap: Protect your favorite toys and sweets from your little sibling. Combine the blocks so the robot imitates a lion’s roar when it detects a change in the ambient light. Put the robot inside your treasure chest (any box or a closet) and close the lid. If your little sibling tries to open it, the robot wakes up and roars to scare him. Angry robots: This game is perfect for toddlers to explore emotions. Parents combine the blocks so Holly expresses emotions (making sounds) for different physical actions. For instance, fear when you turn her upside down, joy when you blow on her face, or anger when you shake her. Each playset comes with everything you need to begin your coding adventure: The Ifs are a family of four interconnected robots, full of sensors and actuators. They  are able to work together to solve problems and complete various actions – from measuring movements, light, sound, temperature and humidity to speaking, singing, imitating, vibrating and lighting up. Each member of the robot family, including Emma, Liam, Noah and Holly, has a unique function or ‘super power’: movement, emotions, a presence detector, and color changes. Emma is the mother of the family. She blends in with the background, just like a chameleon, using her color sensor. Liam is the father. If someone gets too close and tries to trick him, he will wake up thanks to his presence detector. Noah is the eldest son. He is very lively and he’s always on the move, shaking to create chain reactions. Holly is the youngest robot of the family. She expresses her emotions, depending on how she’s programmed. Starting from simple concepts, children can create their own characters using tools  like Tinkercad and 3d printing. The gender gap persists in the tech field. Getting more women into tech will lead to innovations that reflect the wants and needs of half the population. Inspiring young girls to develop an interest in STEM is crucial to overcome this gap. Nowadays, the majority of STEM toys, especially robots, are targeted to boys. Fortunately, this is changing, and more and more tech toys for girls and boys are coming to the market. We wanted to do our part, so we designed The Ifs gender-neutral so that parents do not identify the toy with a gender and can buy it for both boys and girls. We also like the idea of mixing robots with characters that represent family members so children learn and play with the stories of our awesome robot family. The Ifs are not only for children but also for parents committed to Open Source technology. We are growing a community to share our latest developments and incorporate the feedback and contributions of all the users. Even more, the heart of The Ifs is an electronic board compatible with the Arduino IDE. This feature, together with the Open Source firmware, makes The Ifs fully customizable and perfect for your next DIY project! Finally, if the campaign is successful, we will release the schematics of a basic electronic board so anyone can build their own robot at home. The Ifs Single - Includes Holly, the youngest robot of the family, and the basic set of coding blocks. Plus the playing cards and the first storybook. The Ifs Duo - Includes Holly and Noah robots, the children of the family, and the Intermediate set of coding blocks. Plus the playing cards and the first and second storybook. The Ifs Family - Includes the whole robot family (Holly, Noah, Emma and Liam) and the complete set of coding blocks. Plus the playing cards and the three storybooks. We recommend this package for your child to get the full experience. The Ifs School - This pledge allows you to support the project in a HUGE way. This is a specific reward for a school, coding club, or the institution of your choice. It includes a book with classroom activities and virtual training, and we will travel to your location if you fund the trip. Also, lifetime membership to our online resource center. We are super enthusiastic about all the exciting things that you will be using The Ifs for. Also, we are constantly thinking about new and innovative use cases. By expanding the variety of coding blocks, we hope to further inspire children by the endless possibilities of programming. Our stretch goal will be 200,000 EUR. We look forward to continuing our development so we can bring a further improved product to you. Everything is ready to go, and we just need your support. We have already verified the operation on the prototypes, but to put our product into mass production, we need your help. We thank you for your support and hope you will share in our vision. We want to be as transparent as possible and take you along every step of the way.\n"
          ],
          "name": "stdout"
        }
      ]
    },
    {
      "cell_type": "code",
      "metadata": {
        "id": "9OmAOn6SpXvG",
        "colab_type": "code",
        "outputId": "f2cf8b19-c563-4c78-a5a3-6e7be7ea3082",
        "colab": {
          "base_uri": "https://localhost:8080/",
          "height": 541
        }
      },
      "source": [
        "import re ## regular expression\n",
        "!sudo pip install contractions\n",
        "!sudo pip install textsearch\n",
        "import contractions\n",
        "import nltk\n",
        "from nltk.tokenize import word_tokenize\n",
        "nltk.download('punkt')\n",
        "from nltk.corpus import stopwords\n",
        "nltk.download('stopwords')\n",
        "from nltk.stem import WordNetLemmatizer\n",
        "nltk.download('wordnet')\n",
        "from textblob import TextBlob, Word\n",
        "import nltk\n",
        "nltk.download('averaged_perceptron_tagger')\n",
        "\n",
        "## configurar stopwords\n",
        "stop_w = set(stopwords.words(\"english\"))\n",
        "print(stop_w)"
      ],
      "execution_count": 10,
      "outputs": [
        {
          "output_type": "stream",
          "text": [
            "Collecting contractions\n",
            "  Downloading https://files.pythonhosted.org/packages/85/41/c3dfd5feb91a8d587ed1a59f553f07c05f95ad4e5d00ab78702fbf8fe48a/contractions-0.0.24-py2.py3-none-any.whl\n",
            "Collecting textsearch\n",
            "  Downloading https://files.pythonhosted.org/packages/42/a8/03407021f9555043de5492a2bd7a35c56cc03c2510092b5ec018cae1bbf1/textsearch-0.0.17-py2.py3-none-any.whl\n",
            "Collecting pyahocorasick\n",
            "\u001b[?25l  Downloading https://files.pythonhosted.org/packages/f4/9f/f0d8e8850e12829eea2e778f1c90e3c53a9a799b7f412082a5d21cd19ae1/pyahocorasick-1.4.0.tar.gz (312kB)\n",
            "\u001b[K     |████████████████████████████████| 317kB 6.7MB/s \n",
            "\u001b[?25hCollecting Unidecode\n",
            "\u001b[?25l  Downloading https://files.pythonhosted.org/packages/d0/42/d9edfed04228bacea2d824904cae367ee9efd05e6cce7ceaaedd0b0ad964/Unidecode-1.1.1-py2.py3-none-any.whl (238kB)\n",
            "\u001b[K     |████████████████████████████████| 245kB 66.2MB/s \n",
            "\u001b[?25hBuilding wheels for collected packages: pyahocorasick\n",
            "  Building wheel for pyahocorasick (setup.py) ... \u001b[?25l\u001b[?25hdone\n",
            "  Created wheel for pyahocorasick: filename=pyahocorasick-1.4.0-cp36-cp36m-linux_x86_64.whl size=81703 sha256=18fdb1753f49bfd13292342ee72e68720b2b8dee03ab6133ec6291572945b54a\n",
            "  Stored in directory: /root/.cache/pip/wheels/0a/90/61/87a55f5b459792fbb2b7ba6b31721b06ff5cf6bde541b40994\n",
            "Successfully built pyahocorasick\n",
            "Installing collected packages: pyahocorasick, Unidecode, textsearch, contractions\n",
            "Successfully installed Unidecode-1.1.1 contractions-0.0.24 pyahocorasick-1.4.0 textsearch-0.0.17\n",
            "Requirement already satisfied: textsearch in /usr/local/lib/python3.6/dist-packages (0.0.17)\n",
            "Requirement already satisfied: Unidecode in /usr/local/lib/python3.6/dist-packages (from textsearch) (1.1.1)\n",
            "Requirement already satisfied: pyahocorasick in /usr/local/lib/python3.6/dist-packages (from textsearch) (1.4.0)\n",
            "[nltk_data] Downloading package punkt to /root/nltk_data...\n",
            "[nltk_data]   Unzipping tokenizers/punkt.zip.\n",
            "[nltk_data] Downloading package stopwords to /root/nltk_data...\n",
            "[nltk_data]   Unzipping corpora/stopwords.zip.\n",
            "[nltk_data] Downloading package wordnet to /root/nltk_data...\n",
            "[nltk_data]   Unzipping corpora/wordnet.zip.\n",
            "[nltk_data] Downloading package averaged_perceptron_tagger to\n",
            "[nltk_data]     /root/nltk_data...\n",
            "[nltk_data]   Unzipping taggers/averaged_perceptron_tagger.zip.\n",
            "{'m', 'against', 'only', \"that'll\", 'other', 'for', 'in', 'above', 'both', \"it's\", 'whom', 'on', 'this', \"shouldn't\", 'don', \"she's\", 'll', 'has', 'couldn', \"weren't\", \"won't\", 'same', 'by', 'through', 'himself', 'that', 'own', 'myself', 'down', 'them', 'needn', \"you'd\", 'are', 'doing', \"should've\", 'it', 'o', 'while', \"hasn't\", 'an', 'hers', 'won', 'our', 'or', 'not', 'your', 'itself', 're', 'of', 'he', 'me', 'these', 'when', \"haven't\", 'my', 'over', 'theirs', 'ourselves', 'out', 'shan', 'wouldn', 'below', 'having', 'ain', 'into', 'which', 'you', 'off', 'where', 'all', 'd', 'just', 's', \"mustn't\", 'shouldn', \"wouldn't\", 'wasn', 'no', 'to', \"you're\", 'at', 'him', 'from', 'had', \"didn't\", 'ours', 'during', 'very', \"you'll\", \"needn't\", 'again', 'there', 'yours', 'weren', 'once', \"wasn't\", 'mustn', 'yourself', 'was', 'more', 'most', 'those', 'too', 'being', 'her', 'if', 'i', 'they', 'so', 'mightn', 'the', 'than', 'a', 'we', \"doesn't\", 'will', \"you've\", 'under', 'aren', 'because', 'does', 'here', 'doesn', \"isn't\", 'themselves', 'between', 'further', 'be', 'herself', 'y', 'didn', 'then', 'is', 'how', 'am', 'with', 'about', \"don't\", 'until', 'nor', 'isn', 'did', 'as', 'but', 't', 'their', 'up', 'any', 'his', 'each', 've', 'ma', 'she', 'such', \"hadn't\", \"shan't\", 'now', 'what', 'have', 'its', 'before', 'hasn', 'can', \"couldn't\", 'and', 'some', \"aren't\", 'haven', 'were', 'after', 'why', 'hadn', 'who', 'should', 'been', \"mightn't\", 'yourselves', 'do', 'few'}\n"
          ],
          "name": "stdout"
        }
      ]
    },
    {
      "cell_type": "code",
      "metadata": {
        "id": "RVpv2SiPs3Mt",
        "colab_type": "code",
        "outputId": "f9bd4780-d365-4b88-cfaa-e893b4afa5b8",
        "colab": {
          "base_uri": "https://localhost:8080/",
          "height": 50
        }
      },
      "source": [
        "# Del texto de entrada, se realizará una limpieza de caracteres especiales, contracciones, etc\n",
        "\n",
        "import pandas as pd\n",
        "## remover caracteres especiales\n",
        "df = pd.DataFrame([descripcion],columns=['description'])\n",
        "df\n",
        "re_contractions = []\n",
        "for text in df.description:\n",
        "    try:\n",
        "        new_text = contractions.fix(text)\n",
        "        re_contractions.append(new_text)\n",
        "    except AttributeError:\n",
        "        new_text = ' '\n",
        "        re_contractions.append(new_text)\n",
        "df[\"re_contractions\"] = re_contractions\n",
        "\n",
        "## remover caracteres especiales\n",
        "re_special_chars = []\n",
        "for text in df.re_contractions:\n",
        "    new_text = re.sub(r\"\\W+\", \" \", text) ## remover caracteres\n",
        "    new_text = re.sub(r'\\w*\\d\\w*', '', new_text) ## remover numbers\n",
        "    re_special_chars.append(new_text)\n",
        "df[\"re_special_char\"] = re_special_chars\n",
        "\n",
        "## minúsculas\n",
        "lower_case = []\n",
        "for tex in df.re_special_char:\n",
        "    new_text = tex.lower()\n",
        "    lower_case.append(new_text)\n",
        "df[\"lower_case\"] = lower_case\n",
        "\n",
        "## tokenización\n",
        "tokens = []\n",
        "for text in df.lower_case:\n",
        "    new_text = word_tokenize(text)\n",
        "    tokens.append(new_text)\n",
        "df[\"tokens\"] = tokens\n",
        "\n",
        "## eliminar palabras de parada\n",
        "re_stopwords = []\n",
        "for lista in df.tokens:\n",
        "    not_stopwords = []\n",
        "    for w in lista:\n",
        "        if w not in stop_w:\n",
        "            not_stopwords.append(w)\n",
        "    re_stopwords.append(not_stopwords)\n",
        "df[\"re_stopwords\"] = re_stopwords\n",
        "\n",
        "## lematización\n",
        "lemmatizer = WordNetLemmatizer()\n",
        "lemmatization = []\n",
        "for lista in df.re_stopwords:\n",
        "    lemmas = []\n",
        "    for w in lista:  \n",
        "        word1 = lemmatizer.lemmatize(w, pos = \"n\")      #Lematizando con NLTK\n",
        "        word2 = lemmatizer.lemmatize(word1, pos = \"v\")\n",
        "        word3 = lemmatizer.lemmatize(word2, pos = (\"a\"))\n",
        "        lemmas.append(word3)\n",
        "        #new_text = lemmatize_with_postag(w)  #Lematizando con TextBlob    \n",
        "    lemmatization.append(lemmas)\n",
        "df[\"lemmatization\"] = lemmatization\n",
        "\n",
        "## unir tokens\n",
        "text_clean = []\n",
        "for lista in df.lemmatization:\n",
        "    text = \" \".join(lista).strip()\n",
        "    text_clean.append(text)\n",
        "\n",
        "df[\"text_clean\"] = text_clean\n",
        "df.head()\n",
        "\n",
        "descripcion = df.text_clean\n",
        "descripcion"
      ],
      "execution_count": 12,
      "outputs": [
        {
          "output_type": "execute_result",
          "data": {
            "text/plain": [
              "0    ifs new educational toy teach kid year old bas...\n",
              "Name: text_clean, dtype: object"
            ]
          },
          "metadata": {
            "tags": []
          },
          "execution_count": 12
        }
      ]
    },
    {
      "cell_type": "markdown",
      "metadata": {
        "id": "OEbnLcUrsH5k",
        "colab_type": "text"
      },
      "source": [
        "### TF-IDF"
      ]
    },
    {
      "cell_type": "code",
      "metadata": {
        "id": "xci7bTZlP00M",
        "colab_type": "code",
        "colab": {}
      },
      "source": [
        "# load the model from disk\n",
        "filename_descriptions = 'description_model_tfidf.sav'\n",
        "description_model_tfidf = joblib.load(filename_descriptions)"
      ],
      "execution_count": 0,
      "outputs": []
    },
    {
      "cell_type": "code",
      "metadata": {
        "id": "YgdK0hCsZS14",
        "colab_type": "code",
        "colab": {}
      },
      "source": [
        "from sklearn.feature_extraction.text import TfidfVectorizer\n",
        "from sklearn.feature_extraction.text import TfidfTransformer\n",
        "import pickle\n",
        "\n",
        "## Cargando TF-IDF con vocabulario original de 183,249 palabras entrenadas\n",
        "transformer = TfidfTransformer()\n",
        "loaded_vec = TfidfVectorizer(vocabulary=pickle.load(open(\"feature_tfidf.pkl\", \"rb\")))\n",
        "tfidf_new = transformer.fit_transform(loaded_vec.fit_transform(descripcion))"
      ],
      "execution_count": 0,
      "outputs": []
    },
    {
      "cell_type": "code",
      "metadata": {
        "id": "MBQ7Val1aCTm",
        "colab_type": "code",
        "colab": {
          "base_uri": "https://localhost:8080/",
          "height": 50
        },
        "outputId": "a8623a83-0891-48d3-af7c-467c9ecc7c45"
      },
      "source": [
        "predict_description_tfidf = description_model_tfidf.predict(tfidf_new)\n",
        "\n",
        "print('Prediction state:\\t %s\\nSuccessful probability:\\t %.2f%%' %\\\n",
        "      (predict_description_tfidf[0], \n",
        "       (1-description_model_tfidf.predict_proba(tfidf_new)[0][0])*100))"
      ],
      "execution_count": 20,
      "outputs": [
        {
          "output_type": "stream",
          "text": [
            "Prediction state:\t successful\n",
            "Successful probability:\t 50.99%\n"
          ],
          "name": "stdout"
        }
      ]
    },
    {
      "cell_type": "code",
      "metadata": {
        "id": "pQJ4a64NknQg",
        "colab_type": "code",
        "outputId": "a4f5fe8f-bb77-4a7e-b08f-d4e047d004c2",
        "colab": {
          "base_uri": "https://localhost:8080/",
          "height": 121
        }
      },
      "source": [
        "## Realizando pruebas con textos del test\n",
        "#X_test_description = np.load('description_X_test.npy',allow_pickle=True)\n",
        "#X_test_description = X_test_description.flatten().tolist()\n",
        "#X_test_description[0:5]"
      ],
      "execution_count": 156,
      "outputs": [
        {
          "output_type": "execute_result",
          "data": {
            "text/plain": [
              "['want make sell target design use people age walk life go make target want film shoot steel advertise want world see people hit target foam dart foot pumpkin lob mile want see also want clear business buy sell weapon weapon accessory target system target anything nerf gun pumpkin launcher',\n",
              " 'group people walk life develop platform real estate agent assist day day activity online presence platform suitable new agent well experience agent offerswebsites modern clean look attract visitor give feel home web platform extremely user friendly agent able build website minute help agent stay touch client get business send e card email blast drip campaign list update attract lead share list via facebook twitter linkedin click button platform manageall agent contact calendar entry task keep one place synchronize across mobile platform get agent website lead instantly contact database integrate website platform fully integrate real estate board modern list map showcasing agent list launch initial version platform get awesome feedback please help u finalize platform make successful commonly adopt real estate agent everywhere',\n",
              " 'baseline feature launch campaign raise fund project injection app mobile application enhance comic book read experience injection app reward reader bonus content read unlock let u experience explore excite world injection bonus content expect goal support graphic novel injection open app new exist graphic novel want close gap new old medium create new way experience story love increasingly evolve digital world comic book reader leave behind digital distribution first step dynamic content best way revitalize comic book industry injection app limit still image app include variety new way experience interact content include want reward reader storyteller alike give experience deserve want join team mission create new way reader engage traditional content graphic novel ever do help u make difference way story tell share part story rate comment new injection content even say injection narrative create try change way people read enjoy comic rather want change way experience narrative world tell live amaze time different form medium collaborate create new excite project team love comic way read comic stay world injection take place century cataclysmic event bring human race brink extinction corporation name syntech form restore order salvage technology past fuel future innovation success hinge use e agent choose undisclosed process e unique weapon aid injection specialize serum create syntech enable agent augment ability various power story follow one agent jinni send eliminate rouge e jinni journey see across continent post apocalyptic europe africa asia encounter variety character faction leave question place world soon find question action motif organization fight life goal bridge gap reader creator believe vital part comic book creative process want current future reader establish strong link content create injection team compose group rabid comic book enthusiast wide variety skill include storytelling animation design system architecture mobile app development bring strong trait craft memorable story world lovina yavari host voice aiyah lovina artist actress international model base toronto video personality game magazine cgm emcee japanese escape room company voice actress injection series goal one day become cybernetic organism view work www lovinayavari deviantart com mike schroeder creator mike transmedia specialist recent graduate humber college base toronto canada discover love film high school leverage number career pursuit even move japan teach english nineteen since graduate humber college mike work develop injection comic recently establish production company nanomyte studio develop transmedia experience visit injection website http www injectioncomic com geordan king developer geordan serial entrepreneur technology strategist app developer strong background behavioural neuroscience nearly year global experience development mobile internet enable technology career focus leverage innovation drive business transformation geordan continue apply expertise push traditional boundary production novel software platform contribute white paper participate industry panel discussion televise debate visit website http www kingventures io andrew kwan artist andrew publish freelance artist base toronto canada skill cover area comic animation concept art graphic design photography andrew currently work original comic series gel sci fi fantasy adventure active member deviantart community visit website http www patreon com andrewkwanart jamal campbell artist jamal freelance artist toronto canada graduate sheridan college technical illustration program interest art spark heavily influence marvel dc animate show jamal work cover artist commission marvel bring character like life page visit website www jamalcampbell com alex wilkinson composer alex composer record artist multi instrumentalist base nottingham england currently sign fluttery record solo post rock musician alex recently join key creative crew injection design soundtrack injection series influence range game soundtrack orchestral piece hard rock metal visit site see work http bandcamp com dakota smolder lead sound designer dakota smolder sound recordist post audio engineer base toronto canada currently serve lead sound designer injection series spend past four year hone skill specialize audio earn degree film medium production instruction david cronenberg record mixer orest sushko well seven time award win sound editor garrett kerr main drive sound ability create new world every individual project visit website http dakotasmolders weebly com adrian harasowsky producer adrian producer injection series long track record write direct emerge humber film medium production program october adrian partner mike schroeder series original project include injection series adrian aim accelerate realm transmedia brainstorm apply new concept excel proliferation mainstream medium',\n",
              " 'scour internet analysis card performance way crossfire sli configuration notice lack data project aim fix benchmarking various card different configuration include hybrid way way setup',\n",
              " 'pass first stretch goal also preview chapter upload anyone everyone check find update come everybody let u learn along stretch goal add learn new language pretty scary especially language question program cod language lot beginner material seem like either make assumption reader learn snail pace lead lesson quick cover basic seem last forever reader know really lead lesson get lose author seem gloss detail kind important learn along begin php come ok make learn along begin php different professional web designer year huge portfolio skill take year develop promise teach course single book writer little bite experience want bring along expand compile wealth knowledge web book improve php skill go document process develop project share tell thing certain way right way someone forget like learner tell certain way thing go wonky way addition educational text learn along begin php conversation two people try learn thing learn mistake pro php designer learn true web designer main thing go eight year spend work writer produce fiction nonfiction informational content job pas information idea along others part like think job fairly well part inspiration behind learn along idea able convey idea information help learn php project bad think learn along begin php supplement use bulk skill learn source confident teach everything want know intend cover basic way hopefully entertain easy understand interest plan supplementary material core book complete well ok might little interest big book thing go end final size book depend much information go end code come project look like final layout look much end ramble question mark word know yet current goal minimum page though could go people seem interest concept stretch goal get add initial fund goal reach content base stretch goal go main book stand alone supplement go main book pledge supplement level benefit fund base reward kickstarter write book release cod program book write expert least people present expert honesty even sure market offer campaign serf test water see people interest learn along concept fund write publication book shoot huge goal want make sure enough interest make write book worth time enough money make decent look print version assume anyone interest print version book successful additional learn along book may follow stretch goal far three stretch goal announce thing mind case campaign really take go fund get get current stretch goal follow let u give character mark book get visual upgrade fit write style generally informal attitude think book like dummy series doodle icon cartoon concept basically goal get bite work put internal design book make enjoyable read also add quick reference section end book use look tag command cover main text book work wordpress wordpress pretty powerful platform useful everything basic blog full blow magazine style website also conveniently php mark section add back book focus specifically work wordpress include edit exist theme adjust need build new theme ecommerce ahoy men want watch world burn others want build website sell stuff goal target toward latter mark section add back book focus specifically build commerce focus website']"
            ]
          },
          "metadata": {
            "tags": []
          },
          "execution_count": 156
        }
      ]
    },
    {
      "cell_type": "code",
      "metadata": {
        "id": "SS4CpRipnqSu",
        "colab_type": "code",
        "colab": {}
      },
      "source": [
        "#descripcion = X_test_description[5]"
      ],
      "execution_count": 0,
      "outputs": []
    },
    {
      "cell_type": "markdown",
      "metadata": {
        "id": "HcXqTATg6X6x",
        "colab_type": "text"
      },
      "source": [
        "### Bow"
      ]
    },
    {
      "cell_type": "code",
      "metadata": {
        "id": "vHwFkqA7cEkL",
        "colab_type": "code",
        "colab": {}
      },
      "source": [
        "# load the model from disk\n",
        "filename_descriptions = 'description_model_bow.sav'\n",
        "description_model_bow = joblib.load(filename_descriptions)"
      ],
      "execution_count": 0,
      "outputs": []
    },
    {
      "cell_type": "code",
      "metadata": {
        "id": "FmSNDfDb4T5M",
        "colab_type": "code",
        "outputId": "dc247112-e539-4a71-9e3f-35eb73634b74",
        "colab": {
          "base_uri": "https://localhost:8080/",
          "height": 50
        }
      },
      "source": [
        "from sklearn.svm import SVC\n",
        "from sklearn.metrics import accuracy_score\n",
        "from sklearn.feature_extraction.text import CountVectorizer\n",
        "\n",
        "## BoW\n",
        "vectorizer = CountVectorizer(vocabulary=pickle.load(open(\"feature_bow.pkl\", \"rb\")))\n",
        "bow_new = vectorizer.fit_transform(descripcion)\n",
        "\n",
        "predict_description_bow = description_model_bow.predict(bow_new)\n",
        "predict_description_bow\n",
        "print('Prediction state:\\t %s\\nSuccessful probability:\\t %.2f%%' %\\\n",
        "      (predict_description_bow[0], \n",
        "       (1-description_model_bow.predict_proba(bow_new)[0][0])*100))"
      ],
      "execution_count": 22,
      "outputs": [
        {
          "output_type": "stream",
          "text": [
            "Prediction state:\t successful\n",
            "Successful probability:\t 42.67%\n"
          ],
          "name": "stdout"
        }
      ]
    }
  ]
}