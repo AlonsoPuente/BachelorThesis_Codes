{
 "cells": [
  {
   "cell_type": "markdown",
   "metadata": {},
   "source": [
    "## Scraping descripción de proyectos"
   ]
  },
  {
   "cell_type": "code",
   "execution_count": 1,
   "metadata": {},
   "outputs": [
    {
     "name": "stdout",
     "output_type": "stream",
     "text": [
      "Requirement already satisfied: fake_useragent in c:\\users\\alonso\\anaconda3\\lib\\site-packages (0.1.11)\n"
     ]
    }
   ],
   "source": [
    "!pip install fake_useragent"
   ]
  },
  {
   "cell_type": "code",
   "execution_count": 1,
   "metadata": {},
   "outputs": [],
   "source": [
    "import pandas as pd\n",
    "import glob\n",
    "import numpy as np\n",
    "from sklearn.preprocessing import LabelEncoder\n",
    "from pandas import Series\n",
    "import math\n",
    "import csv"
   ]
  },
  {
   "cell_type": "code",
   "execution_count": 2,
   "metadata": {},
   "outputs": [
    {
     "data": {
      "text/plain": [
       "'C:\\\\Users\\\\ALONSO'"
      ]
     },
     "execution_count": 2,
     "metadata": {},
     "output_type": "execute_result"
    }
   ],
   "source": [
    "import os\n",
    "os.getcwd()"
   ]
  },
  {
   "cell_type": "code",
   "execution_count": 5,
   "metadata": {},
   "outputs": [],
   "source": [
    "os.chdir('D:/TTT/DB/datasets finales')"
   ]
  },
  {
   "cell_type": "code",
   "execution_count": 6,
   "metadata": {},
   "outputs": [
    {
     "data": {
      "text/html": [
       "<div>\n",
       "<style scoped>\n",
       "    .dataframe tbody tr th:only-of-type {\n",
       "        vertical-align: middle;\n",
       "    }\n",
       "\n",
       "    .dataframe tbody tr th {\n",
       "        vertical-align: top;\n",
       "    }\n",
       "\n",
       "    .dataframe thead th {\n",
       "        text-align: right;\n",
       "    }\n",
       "</style>\n",
       "<table border=\"1\" class=\"dataframe\">\n",
       "  <thead>\n",
       "    <tr style=\"text-align: right;\">\n",
       "      <th></th>\n",
       "      <th>id</th>\n",
       "      <th>backers_count</th>\n",
       "      <th>name</th>\n",
       "      <th>blurb</th>\n",
       "      <th>category</th>\n",
       "      <th>photo</th>\n",
       "      <th>urls</th>\n",
       "      <th>city</th>\n",
       "      <th>country</th>\n",
       "      <th>goal</th>\n",
       "      <th>pledged</th>\n",
       "      <th>currency</th>\n",
       "      <th>usd_pledged</th>\n",
       "      <th>created_at</th>\n",
       "      <th>launched_at</th>\n",
       "      <th>deadline</th>\n",
       "      <th>duration</th>\n",
       "      <th>state</th>\n",
       "    </tr>\n",
       "  </thead>\n",
       "  <tbody>\n",
       "    <tr>\n",
       "      <th>0</th>\n",
       "      <td>1000245024</td>\n",
       "      <td>0</td>\n",
       "      <td>Safer Home</td>\n",
       "      <td>Placing furniture against traditional plugs is...</td>\n",
       "      <td>Hardware</td>\n",
       "      <td>https://ksr-ugc.imgix.net/assets/011/663/874/0...</td>\n",
       "      <td>https://www.kickstarter.com/projects/homesafet...</td>\n",
       "      <td>Kamloops</td>\n",
       "      <td>CA</td>\n",
       "      <td>50000.0</td>\n",
       "      <td>0.0</td>\n",
       "      <td>CAD</td>\n",
       "      <td>0.000000</td>\n",
       "      <td>March 09, 2014</td>\n",
       "      <td>June 03, 2015</td>\n",
       "      <td>July 03, 2015</td>\n",
       "      <td>30</td>\n",
       "      <td>failed</td>\n",
       "    </tr>\n",
       "    <tr>\n",
       "      <th>1</th>\n",
       "      <td>1000256230</td>\n",
       "      <td>0</td>\n",
       "      <td>Shreddit - Privacy on Reddit</td>\n",
       "      <td>Shreddit, a Reddit privacy tool I created and ...</td>\n",
       "      <td>Software</td>\n",
       "      <td>https://ksr-ugc.imgix.net/assets/013/466/903/0...</td>\n",
       "      <td>https://www.kickstarter.com/projects/466914929...</td>\n",
       "      <td>Edinburgh</td>\n",
       "      <td>GB</td>\n",
       "      <td>2000.0</td>\n",
       "      <td>0.0</td>\n",
       "      <td>GBP</td>\n",
       "      <td>0.000000</td>\n",
       "      <td>August 23, 2016</td>\n",
       "      <td>June 02, 2017</td>\n",
       "      <td>July 02, 2017</td>\n",
       "      <td>30</td>\n",
       "      <td>failed</td>\n",
       "    </tr>\n",
       "    <tr>\n",
       "      <th>2</th>\n",
       "      <td>1000261018</td>\n",
       "      <td>3</td>\n",
       "      <td>Diposta - liberating people from their postal ...</td>\n",
       "      <td>The problem of mail: it is physical! Diposta c...</td>\n",
       "      <td>Web</td>\n",
       "      <td>https://ksr-ugc.imgix.net/assets/012/071/808/1...</td>\n",
       "      <td>https://www.kickstarter.com/projects/105350477...</td>\n",
       "      <td>Raleigh</td>\n",
       "      <td>US</td>\n",
       "      <td>100000.0</td>\n",
       "      <td>141.0</td>\n",
       "      <td>USD</td>\n",
       "      <td>141.000000</td>\n",
       "      <td>March 17, 2015</td>\n",
       "      <td>July 24, 2016</td>\n",
       "      <td>August 23, 2016</td>\n",
       "      <td>30</td>\n",
       "      <td>failed</td>\n",
       "    </tr>\n",
       "    <tr>\n",
       "      <th>3</th>\n",
       "      <td>100039820</td>\n",
       "      <td>3</td>\n",
       "      <td>Best Spray Bottle Ever - SureShot</td>\n",
       "      <td>Ever had a spray bottle that has a little bit ...</td>\n",
       "      <td>Gadgets</td>\n",
       "      <td>https://ksr-ugc.imgix.net/assets/012/009/461/3...</td>\n",
       "      <td>https://www.kickstarter.com/projects/110136848...</td>\n",
       "      <td>Edmonton</td>\n",
       "      <td>CA</td>\n",
       "      <td>25000.0</td>\n",
       "      <td>3.0</td>\n",
       "      <td>CAD</td>\n",
       "      <td>2.411101</td>\n",
       "      <td>January 22, 2015</td>\n",
       "      <td>February 05, 2015</td>\n",
       "      <td>March 07, 2015</td>\n",
       "      <td>30</td>\n",
       "      <td>failed</td>\n",
       "    </tr>\n",
       "    <tr>\n",
       "      <th>4</th>\n",
       "      <td>1000468345</td>\n",
       "      <td>6</td>\n",
       "      <td>The iRNinja - Simplify your TV with a wireless...</td>\n",
       "      <td>Control your TV &amp; Audio/Video components by pr...</td>\n",
       "      <td>Gadgets</td>\n",
       "      <td>https://ksr-ugc.imgix.net/assets/016/561/251/1...</td>\n",
       "      <td>https://www.kickstarter.com/projects/5877985/i...</td>\n",
       "      <td>Jupiter</td>\n",
       "      <td>US</td>\n",
       "      <td>500.0</td>\n",
       "      <td>74.0</td>\n",
       "      <td>USD</td>\n",
       "      <td>74.000000</td>\n",
       "      <td>April 27, 2017</td>\n",
       "      <td>May 10, 2017</td>\n",
       "      <td>June 14, 2017</td>\n",
       "      <td>35</td>\n",
       "      <td>failed</td>\n",
       "    </tr>\n",
       "  </tbody>\n",
       "</table>\n",
       "</div>"
      ],
      "text/plain": [
       "           id  backers_count  \\\n",
       "0  1000245024              0   \n",
       "1  1000256230              0   \n",
       "2  1000261018              3   \n",
       "3   100039820              3   \n",
       "4  1000468345              6   \n",
       "\n",
       "                                                name  \\\n",
       "0                                         Safer Home   \n",
       "1                       Shreddit - Privacy on Reddit   \n",
       "2  Diposta - liberating people from their postal ...   \n",
       "3                  Best Spray Bottle Ever - SureShot   \n",
       "4  The iRNinja - Simplify your TV with a wireless...   \n",
       "\n",
       "                                               blurb  category  \\\n",
       "0  Placing furniture against traditional plugs is...  Hardware   \n",
       "1  Shreddit, a Reddit privacy tool I created and ...  Software   \n",
       "2  The problem of mail: it is physical! Diposta c...       Web   \n",
       "3  Ever had a spray bottle that has a little bit ...   Gadgets   \n",
       "4  Control your TV & Audio/Video components by pr...   Gadgets   \n",
       "\n",
       "                                               photo  \\\n",
       "0  https://ksr-ugc.imgix.net/assets/011/663/874/0...   \n",
       "1  https://ksr-ugc.imgix.net/assets/013/466/903/0...   \n",
       "2  https://ksr-ugc.imgix.net/assets/012/071/808/1...   \n",
       "3  https://ksr-ugc.imgix.net/assets/012/009/461/3...   \n",
       "4  https://ksr-ugc.imgix.net/assets/016/561/251/1...   \n",
       "\n",
       "                                                urls       city country  \\\n",
       "0  https://www.kickstarter.com/projects/homesafet...   Kamloops      CA   \n",
       "1  https://www.kickstarter.com/projects/466914929...  Edinburgh      GB   \n",
       "2  https://www.kickstarter.com/projects/105350477...    Raleigh      US   \n",
       "3  https://www.kickstarter.com/projects/110136848...   Edmonton      CA   \n",
       "4  https://www.kickstarter.com/projects/5877985/i...    Jupiter      US   \n",
       "\n",
       "       goal  pledged currency  usd_pledged        created_at  \\\n",
       "0   50000.0      0.0      CAD     0.000000    March 09, 2014   \n",
       "1    2000.0      0.0      GBP     0.000000   August 23, 2016   \n",
       "2  100000.0    141.0      USD   141.000000    March 17, 2015   \n",
       "3   25000.0      3.0      CAD     2.411101  January 22, 2015   \n",
       "4     500.0     74.0      USD    74.000000    April 27, 2017   \n",
       "\n",
       "         launched_at         deadline  duration   state  \n",
       "0      June 03, 2015    July 03, 2015        30  failed  \n",
       "1      June 02, 2017    July 02, 2017        30  failed  \n",
       "2      July 24, 2016  August 23, 2016        30  failed  \n",
       "3  February 05, 2015   March 07, 2015        30  failed  \n",
       "4       May 10, 2017    June 14, 2017        35  failed  "
      ]
     },
     "execution_count": 6,
     "metadata": {},
     "output_type": "execute_result"
    }
   ],
   "source": [
    "data_final = pd.read_csv(\"Data final limpia.csv\",sep = ',')\n",
    "data_final.head()"
   ]
  },
  {
   "cell_type": "code",
   "execution_count": 7,
   "metadata": {},
   "outputs": [],
   "source": [
    "urls_list = data_final[\"urls\"].unique()\n",
    "#urls_list[63]"
   ]
  },
  {
   "cell_type": "code",
   "execution_count": 8,
   "metadata": {},
   "outputs": [],
   "source": [
    "from fake_useragent import UserAgent\n",
    "import urllib.request\n",
    "from bs4 import BeautifulSoup        #Analizar data\n",
    "import re\n",
    "\n",
    "Newlines = re.compile(r'[\\r\\n]\\s+')"
   ]
  },
  {
   "cell_type": "code",
   "execution_count": 9,
   "metadata": {},
   "outputs": [],
   "source": [
    "def getPageText(url):\n",
    "    # Crear agente falso para scrapear\n",
    "    ua = UserAgent()\n",
    "    user_agent = ua.chrome\n",
    "    # Solicitar uso de librería urllib con agente falso\n",
    "    request = urllib.request.Request(url, headers = {\"User-Agent\":user_agent})\n",
    "    # Obtener contenido de urls mediante librería urllib\n",
    "    data = urllib.request.urlopen(request)\n",
    "    # parse as html structured document\n",
    "    bs = BeautifulSoup(data, \"html.parser\")\n",
    "    # Buscar todos los tags div con una determinada clase\n",
    "    # A partir de acá, se usa un \"try\" y un \"except\" porque hay páginas que no muestran su contenido\n",
    "    # Para evitar que salga el mensaje de error, se llenarán como null los contenidos que no se puedan descargar\n",
    "    # El try contiene el algoritmo para descargar la descripción de un proyecto\n",
    "    try:  \n",
    "        description = bs.find_all(\"div\", {\"class\":\"rte__content js-full-description responsive-media\"})\n",
    "        # Encontrar todos los párrafos\n",
    "        description = description[0].find_all(\"p\")\n",
    "        # Crear array vacío donde se almacenará el contenido descargado\n",
    "        project_description = []\n",
    "        # Iteración para agregando en lista cada descripción descargada\n",
    "        for link in description:\n",
    "            project_description.append(link.text)\n",
    "        # Juntar párrafos separados en un solo vector, separándolos con un espacio\n",
    "        project_description = ' '.join(project_description)\n",
    "        # Eliminar caracteres especiales\n",
    "        project_description = project_description.replace(u'\\xa0', u'')\n",
    "        project_description = project_description.replace(u'\\n', u' ')\n",
    "    # Y el except sirve para llenar valores nulos en el array en caso de error\n",
    "    except (IndexError, ValueError):\n",
    "        project_description = 'null'\n",
    "        \n",
    "    # Eliminar saltos de línea\n",
    "    return Newlines.sub('\\n', project_description)"
   ]
  },
  {
   "cell_type": "code",
   "execution_count": 10,
   "metadata": {},
   "outputs": [],
   "source": [
    "# Asignar urls de búsqueda (origen)\n",
    "urls_primera_parte = urls_list[0:9083]\n",
    "urls_segunda_parte = urls_list[9084:18168]\n",
    "urls_tercera_parte = urls_list[18169:27251]\n",
    "#urls"
   ]
  },
  {
   "cell_type": "code",
   "execution_count": 11,
   "metadata": {},
   "outputs": [],
   "source": [
    "ids_primera_parte = data_final[\"id\"][0:9083]\n",
    "ids_segunda_parte = data_final[\"id\"][9084:18168]\n",
    "ids_tercera_parte = data_final[\"id\"][18169:27251]"
   ]
  },
  {
   "cell_type": "code",
   "execution_count": 12,
   "metadata": {},
   "outputs": [],
   "source": [
    "description_txt = [getPageText(url) for url in urls_primera_parte]"
   ]
  },
  {
   "cell_type": "code",
   "execution_count": 13,
   "metadata": {},
   "outputs": [],
   "source": [
    "df = {\"id\":ids_primera_parte, \"description\":description_txt}"
   ]
  },
  {
   "cell_type": "code",
   "execution_count": 17,
   "metadata": {},
   "outputs": [
    {
     "data": {
      "text/html": [
       "<div>\n",
       "<style scoped>\n",
       "    .dataframe tbody tr th:only-of-type {\n",
       "        vertical-align: middle;\n",
       "    }\n",
       "\n",
       "    .dataframe tbody tr th {\n",
       "        vertical-align: top;\n",
       "    }\n",
       "\n",
       "    .dataframe thead th {\n",
       "        text-align: right;\n",
       "    }\n",
       "</style>\n",
       "<table border=\"1\" class=\"dataframe\">\n",
       "  <thead>\n",
       "    <tr style=\"text-align: right;\">\n",
       "      <th></th>\n",
       "      <th>id</th>\n",
       "      <th>description</th>\n",
       "    </tr>\n",
       "  </thead>\n",
       "  <tbody>\n",
       "    <tr>\n",
       "      <th>0</th>\n",
       "      <td>1000245024</td>\n",
       "      <td>Purpose Safer Home ensures that electrical plu...</td>\n",
       "    </tr>\n",
       "    <tr>\n",
       "      <th>1</th>\n",
       "      <td>1000256230</td>\n",
       "      <td>I once had a Reddit account that was four year...</td>\n",
       "    </tr>\n",
       "    <tr>\n",
       "      <th>2</th>\n",
       "      <td>1000261018</td>\n",
       "      <td>Every day you go home to a mail box filled wit...</td>\n",
       "    </tr>\n",
       "    <tr>\n",
       "      <th>3</th>\n",
       "      <td>100039820</td>\n",
       "      <td>Funds needed for tooling. Once tooling is done...</td>\n",
       "    </tr>\n",
       "    <tr>\n",
       "      <th>4</th>\n",
       "      <td>1000468345</td>\n",
       "      <td>The iRNinja is a wireless 4 button keypad that...</td>\n",
       "    </tr>\n",
       "    <tr>\n",
       "      <th>5</th>\n",
       "      <td>1000551777</td>\n",
       "      <td>Gantish is a web-based platform for parents, w...</td>\n",
       "    </tr>\n",
       "    <tr>\n",
       "      <th>6</th>\n",
       "      <td>1000558429</td>\n",
       "      <td>Hello, At SellEgg, our goal is to establish co...</td>\n",
       "    </tr>\n",
       "    <tr>\n",
       "      <th>7</th>\n",
       "      <td>1000590709</td>\n",
       "      <td>I want to build a wearable Musical Light Suit ...</td>\n",
       "    </tr>\n",
       "    <tr>\n",
       "      <th>8</th>\n",
       "      <td>1000624031</td>\n",
       "      <td>Hello, my name is Kenneth Steenrod. I have bee...</td>\n",
       "    </tr>\n",
       "    <tr>\n",
       "      <th>9</th>\n",
       "      <td>1000629643</td>\n",
       "      <td>Hello Kickstarter! We are excited to launch an...</td>\n",
       "    </tr>\n",
       "  </tbody>\n",
       "</table>\n",
       "</div>"
      ],
      "text/plain": [
       "           id                                        description\n",
       "0  1000245024  Purpose Safer Home ensures that electrical plu...\n",
       "1  1000256230  I once had a Reddit account that was four year...\n",
       "2  1000261018  Every day you go home to a mail box filled wit...\n",
       "3   100039820  Funds needed for tooling. Once tooling is done...\n",
       "4  1000468345  The iRNinja is a wireless 4 button keypad that...\n",
       "5  1000551777  Gantish is a web-based platform for parents, w...\n",
       "6  1000558429  Hello, At SellEgg, our goal is to establish co...\n",
       "7  1000590709  I want to build a wearable Musical Light Suit ...\n",
       "8  1000624031  Hello, my name is Kenneth Steenrod. I have bee...\n",
       "9  1000629643  Hello Kickstarter! We are excited to launch an..."
      ]
     },
     "execution_count": 17,
     "metadata": {},
     "output_type": "execute_result"
    }
   ],
   "source": [
    "data_final = pd.DataFrame(df)\n",
    "data_final.head(10)"
   ]
  },
  {
   "cell_type": "code",
   "execution_count": 15,
   "metadata": {},
   "outputs": [],
   "source": [
    "export_csv = data_final.to_csv (r'D:\\TTT\\DB\\dataset_descripciones\\data_final_parte1.csv', index = None, header=True)"
   ]
  },
  {
   "cell_type": "code",
   "execution_count": 11,
   "metadata": {},
   "outputs": [],
   "source": [
    "# Hacemos lo mismo con la segunda parte\n",
    "description_txt = [getPageText(url) for url in urls_segunda_parte]\n",
    "df = {\"id\":ids_segunda_parte, \"description\":description_txt}\n",
    "data_final = pd.DataFrame(df)\n",
    "export_csv = data_final.to_csv (r'D:\\TTT\\DB\\dataset_descripciones\\data_final_parte2.csv', index = None, header=True)"
   ]
  },
  {
   "cell_type": "code",
   "execution_count": 12,
   "metadata": {},
   "outputs": [],
   "source": [
    "# Hacemos lo mismo con la tercera parte\n",
    "description_txt = [getPageText(url) for url in urls_tercera_parte]\n",
    "df = {\"id\":ids_tercera_parte, \"description\":description_txt}\n",
    "data_final = pd.DataFrame(df)\n",
    "export_csv = data_final.to_csv (r'D:\\TTT\\DB\\dataset_descripciones\\data_final_parte3.csv', index = None, header=True)"
   ]
  },
  {
   "cell_type": "code",
   "execution_count": 87,
   "metadata": {},
   "outputs": [],
   "source": [
    "# Borramos variables para liberar memoria\n",
    "del description_txt\n",
    "del df\n",
    "del data_final\n",
    "del export_csv"
   ]
  },
  {
   "cell_type": "code",
   "execution_count": 13,
   "metadata": {},
   "outputs": [],
   "source": [
    "# Me redirijo a la nueva ruta de los archivos generados\n",
    "os.chdir('D:/TTT/DB/dataset_descripciones')"
   ]
  },
  {
   "cell_type": "code",
   "execution_count": 14,
   "metadata": {},
   "outputs": [],
   "source": [
    "#Las siguientes líneas son para combinar todos los archivos .csv dentro de la carpeta\n",
    "extension = '.csv'\n",
    "all_filenames = [i for i in glob.glob('*'.format(extension))]\n",
    "\n",
    "#combine all files in the list\n",
    "data_description = pd.concat([pd.read_csv(f) for f in all_filenames ])\n",
    "#export to csv\n",
    "data_description.to_csv( \"data_description.csv\", index=False, encoding='utf-8-sig')"
   ]
  }
 ],
 "metadata": {
  "kernelspec": {
   "display_name": "Python 3",
   "language": "python",
   "name": "python3"
  },
  "language_info": {
   "codemirror_mode": {
    "name": "ipython",
    "version": 3
   },
   "file_extension": ".py",
   "mimetype": "text/x-python",
   "name": "python",
   "nbconvert_exporter": "python",
   "pygments_lexer": "ipython3",
   "version": "3.7.3"
  }
 },
 "nbformat": 4,
 "nbformat_minor": 2
}
